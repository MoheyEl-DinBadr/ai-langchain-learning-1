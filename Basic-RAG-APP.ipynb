{
 "cells": [
  {
   "metadata": {
    "ExecuteTime": {
     "end_time": "2024-06-03T08:50:28.525013Z",
     "start_time": "2024-06-03T08:50:24.479546Z"
    }
   },
   "cell_type": "code",
   "source": "! pip install gpt4all",
   "id": "37ee48284d4f67a5",
   "outputs": [
    {
     "name": "stdout",
     "output_type": "stream",
     "text": [
      "Requirement already satisfied: gpt4all in c:\\users\\mohbadr\\worskspace\\langchain-learning\\venv\\lib\\site-packages (2.7.0)\n",
      "Requirement already satisfied: requests in c:\\users\\mohbadr\\worskspace\\langchain-learning\\venv\\lib\\site-packages (from gpt4all) (2.32.2)\n",
      "Requirement already satisfied: tqdm in c:\\users\\mohbadr\\worskspace\\langchain-learning\\venv\\lib\\site-packages (from gpt4all) (4.66.4)\n",
      "Requirement already satisfied: charset-normalizer<4,>=2 in c:\\users\\mohbadr\\worskspace\\langchain-learning\\venv\\lib\\site-packages (from requests->gpt4all) (3.3.2)\n",
      "Requirement already satisfied: idna<4,>=2.5 in c:\\users\\mohbadr\\worskspace\\langchain-learning\\venv\\lib\\site-packages (from requests->gpt4all) (3.7)\n",
      "Requirement already satisfied: urllib3<3,>=1.21.1 in c:\\users\\mohbadr\\worskspace\\langchain-learning\\venv\\lib\\site-packages (from requests->gpt4all) (2.2.1)\n",
      "Requirement already satisfied: certifi>=2017.4.17 in c:\\users\\mohbadr\\appdata\\local\\packages\\pythonsoftwarefoundation.python.3.11_qbz5n2kfra8p0\\localcache\\local-packages\\python311\\site-packages (from requests->gpt4all) (2024.2.2)\n",
      "Requirement already satisfied: colorama in c:\\users\\mohbadr\\worskspace\\langchain-learning\\venv\\lib\\site-packages (from tqdm->gpt4all) (0.4.6)\n"
     ]
    }
   ],
   "execution_count": 1
  },
  {
   "cell_type": "code",
   "id": "initial_id",
   "metadata": {
    "collapsed": true,
    "ExecuteTime": {
     "end_time": "2024-06-03T08:51:20.587240Z",
     "start_time": "2024-06-03T08:51:20.565087Z"
    }
   },
   "source": [
    "import os\n",
    "from dotenv import load_dotenv\n",
    "\n",
    "load_dotenv()\n",
    "base_url = os.environ.get('OPENAI_BASE_URL')\n",
    "api_key = os.environ.get('OPENAI_API_KEY')\n",
    "model_name = os.environ.get('OPENAI_MODEL_NAME')"
   ],
   "outputs": [],
   "execution_count": 2
  },
  {
   "metadata": {
    "ExecuteTime": {
     "end_time": "2024-06-03T08:51:24.500308Z",
     "start_time": "2024-06-03T08:51:22.440097Z"
    }
   },
   "cell_type": "code",
   "source": [
    "from langchain_openai import OpenAI\n",
    "\n",
    "llm = OpenAI(api_key=api_key, model_name=model_name, base_url=base_url)"
   ],
   "id": "fc31cfa256304286",
   "outputs": [],
   "execution_count": 3
  },
  {
   "metadata": {
    "ExecuteTime": {
     "end_time": "2024-06-03T08:51:31.718912Z",
     "start_time": "2024-06-03T08:51:31.688038Z"
    }
   },
   "cell_type": "code",
   "source": [
    "from langchain_community.document_loaders import TextLoader\n",
    "\n",
    "loader = TextLoader(file_path= \"be-good-and-how-not-to-die.txt\")"
   ],
   "id": "f68261bb477b583",
   "outputs": [],
   "execution_count": 4
  },
  {
   "metadata": {
    "ExecuteTime": {
     "end_time": "2024-06-03T08:51:32.985492Z",
     "start_time": "2024-06-03T08:51:32.978726Z"
    }
   },
   "cell_type": "code",
   "source": "document = loader.load()",
   "id": "a43b42f7b6cbd43a",
   "outputs": [],
   "execution_count": 5
  },
  {
   "metadata": {
    "ExecuteTime": {
     "end_time": "2024-06-03T08:51:33.743334Z",
     "start_time": "2024-06-03T08:51:33.738717Z"
    }
   },
   "cell_type": "code",
   "source": "print(type(document))",
   "id": "2981afae9cdd1a30",
   "outputs": [
    {
     "name": "stdout",
     "output_type": "stream",
     "text": [
      "<class 'list'>\n"
     ]
    }
   ],
   "execution_count": 6
  },
  {
   "metadata": {
    "ExecuteTime": {
     "end_time": "2024-06-03T08:51:34.345042Z",
     "start_time": "2024-06-03T08:51:34.339983Z"
    }
   },
   "cell_type": "code",
   "source": "print(len(document))",
   "id": "87ebce8eccbcce64",
   "outputs": [
    {
     "name": "stdout",
     "output_type": "stream",
     "text": [
      "1\n"
     ]
    }
   ],
   "execution_count": 7
  },
  {
   "metadata": {
    "ExecuteTime": {
     "end_time": "2024-06-03T08:51:35.349533Z",
     "start_time": "2024-06-03T08:51:35.343666Z"
    }
   },
   "cell_type": "code",
   "source": "print(document[0].metadata)",
   "id": "8296c5af40f52864",
   "outputs": [
    {
     "name": "stdout",
     "output_type": "stream",
     "text": [
      "{'source': 'be-good-and-how-not-to-die.txt'}\n"
     ]
    }
   ],
   "execution_count": 8
  },
  {
   "metadata": {
    "ExecuteTime": {
     "end_time": "2024-06-03T08:51:36.112613Z",
     "start_time": "2024-06-03T08:51:36.107316Z"
    }
   },
   "cell_type": "code",
   "source": "print(f\"Your document has {len(document[0].page_content)} characters\")",
   "id": "a019d60d2d11e932",
   "outputs": [
    {
     "name": "stdout",
     "output_type": "stream",
     "text": [
      "Your document has 27423 characters\n"
     ]
    }
   ],
   "execution_count": 9
  },
  {
   "metadata": {
    "ExecuteTime": {
     "end_time": "2024-06-03T08:51:37.077449Z",
     "start_time": "2024-06-03T08:51:37.039193Z"
    }
   },
   "cell_type": "code",
   "source": [
    "from langchain_text_splitters import RecursiveCharacterTextSplitter\n",
    "\n",
    "text_splitter = RecursiveCharacterTextSplitter(\n",
    "    separators=['\\n', '\\n\\n'],\n",
    "    chunk_size=3000,\n",
    "    chunk_overlap=400\n",
    ")"
   ],
   "id": "67aa40dc3666ff0b",
   "outputs": [],
   "execution_count": 10
  },
  {
   "metadata": {
    "ExecuteTime": {
     "end_time": "2024-06-03T08:51:38.352578Z",
     "start_time": "2024-06-03T08:51:38.346037Z"
    }
   },
   "cell_type": "code",
   "source": "documents = text_splitter.split_documents(document)",
   "id": "f987bcf367deccf1",
   "outputs": [],
   "execution_count": 11
  },
  {
   "metadata": {
    "ExecuteTime": {
     "end_time": "2024-06-03T08:01:53.820359Z",
     "start_time": "2024-06-03T08:01:53.807018Z"
    }
   },
   "cell_type": "code",
   "source": "documents[0]",
   "id": "e6f920773ae20df",
   "outputs": [
    {
     "data": {
      "text/plain": [
       "Document(page_content=\"Be good\\n\\nApril 2008(This essay is derived from a talk at the 2008 Startup School.)About a month after we started Y Combinator we came up with the\\nphrase that became our motto: Make something people want.  We've\\nlearned a lot since then, but if I were choosing now that's still\\nthe one I'd pick.Another thing we tell founders is not to worry too much about the\\nbusiness model, at least at first.  Not because making money is\\nunimportant, but because it's so much easier than building something\\ngreat.A couple weeks ago I realized that if you put those two ideas\\ntogether, you get something surprising.  Make something people want.\\nDon't worry too much about making money.  What you've got is a\\ndescription of a charity.When you get an unexpected result like this, it could either be a\\nbug or a new discovery.  Either businesses aren't supposed to be\\nlike charities, and we've proven by reductio ad absurdum that one\\nor both of the principles we began with is false.  Or we have a new\\nidea.I suspect it's the latter, because as soon as this thought occurred\\nto me, a whole bunch of other things fell into place.ExamplesFor example, Craigslist.  It's not a charity, but they run it like\\none.  And they're astoundingly successful.  When you scan down the\\nlist of most popular web sites, the number of employees at Craigslist\\nlooks like a misprint. Their revenues aren't as high as they could\\nbe, but most startups would be happy to trade places with them.In Patrick O'Brian's novels, his captains always try to get upwind\\nof their opponents.  If you're upwind, you decide when and if to\\nengage the other ship.  Craigslist is effectively upwind of enormous\\nrevenues.  They'd face some challenges if they wanted to make more,\\nbut not the sort you face when you're tacking upwind, trying to\\nforce a crappy product on ambivalent users by spending ten times\\nas much on sales as on development.  [1]I'm not saying startups should aim to end up like Craigslist.\\nThey're a product of unusual circumstances.  But they're a good\\nmodel for the early phases.Google looked a lot like a charity in the beginning. They didn't\\nhave ads for over a year.  At year 1, Google was indistinguishable\\nfrom a nonprofit.  If a nonprofit or government organization had\\nstarted a project to index the web, Google at year 1 is the limit\\nof what they'd have produced.Back when I was working on spam filters I thought it would be a\\ngood idea to have a web-based email service with good spam filtering.\\nI wasn't thinking of it as a company.  I just wanted to keep people\\nfrom getting spammed.  But as I thought more about this project, I\\nrealized it would probably have to be a company.  It would cost\\nsomething to run, and it would be a pain to fund with grants and\\ndonations.That was a surprising realization.  Companies often claim to be\\nbenevolent, but it was surprising to realize there were purely\\nbenevolent projects that had to be embodied as companies to work.I didn't want to start another company, so I didn't do it.  But if\", metadata={'source': 'be-good-and-how-not-to-die.txt'})"
      ]
     },
     "execution_count": 28,
     "metadata": {},
     "output_type": "execute_result"
    }
   ],
   "execution_count": 28
  },
  {
   "metadata": {
    "ExecuteTime": {
     "end_time": "2024-06-03T08:01:54.514582Z",
     "start_time": "2024-06-03T08:01:54.506424Z"
    }
   },
   "cell_type": "code",
   "source": "documents[1]",
   "id": "1be533f11ad254ab",
   "outputs": [
    {
     "data": {
      "text/plain": [
       "Document(page_content=\"realized it would probably have to be a company.  It would cost\\nsomething to run, and it would be a pain to fund with grants and\\ndonations.That was a surprising realization.  Companies often claim to be\\nbenevolent, but it was surprising to realize there were purely\\nbenevolent projects that had to be embodied as companies to work.I didn't want to start another company, so I didn't do it.  But if\\nsomeone had, they'd probably be quite rich now.  There was a window\\nof about two years when spam was increasing rapidly but all the big\\nemail services had terrible filters.  If someone had launched a\\nnew, spam-free mail service, users would have flocked to it.Notice the pattern here?  From either direction we get to the same\\nspot.  If you start from successful startups, you find they often\\nbehaved like nonprofits.  And if you start from ideas for nonprofits,\\nyou find they'd often make good startups.PowerHow wide is this territory?  Would all good nonprofits be good\\ncompanies?  Possibly not.  What makes Google so valuable is that\\ntheir users have money.  If you make people with money love you,\\nyou can probably get some of it.  But could you also base a successful\\nstartup on behaving like a nonprofit to people who don't have money?\\nCould you, for example, grow a successful startup out of curing an\\nunfashionable but deadly disease like malaria?I'm not sure, but I suspect that if you pushed this idea, you'd be\\nsurprised how far it would go.  For example, people who apply to Y\\nCombinator don't generally have much money, and yet we can profit\\nby helping them, because with our help they could make money.  Maybe\\nthe situation is similar with malaria.  Maybe an organization that\\nhelped lift its weight off a country could benefit from the resulting\\ngrowth.I'm not proposing this is a serious idea.  I don't know anything\\nabout malaria.  But I've been kicking ideas around long enough to\\nknow when I come across a powerful one.One way to guess how far an idea extends is to ask yourself at what\\npoint you'd bet against it.  The thought of betting against benevolence\\nis alarming in the same way as saying that something is technically\\nimpossible.  You're just asking to be made a fool of, because these\\nare such powerful forces.  [2]For example, initially I thought maybe this principle only applied\\nto Internet startups.  Obviously it worked for Google, but what\\nabout Microsoft?  Surely Microsoft isn't benevolent?  But when I\\nthink back to the beginning, they were.  Compared to IBM they were\\nlike Robin Hood.  When IBM introduced the PC, they thought they\\nwere going to make money selling hardware at high prices.  But by\\ngaining control of the PC standard, Microsoft opened up the market\\nto any manufacturer.  Hardware prices plummeted, and lots of people\\ngot to have computers who couldn't otherwise have afforded them.\\nIt's the sort of thing you'd expect Google to do.Microsoft isn't so benevolent now.  Now when one thinks of what\", metadata={'source': 'be-good-and-how-not-to-die.txt'})"
      ]
     },
     "execution_count": 29,
     "metadata": {},
     "output_type": "execute_result"
    }
   ],
   "execution_count": 29
  },
  {
   "metadata": {
    "ExecuteTime": {
     "end_time": "2024-06-03T09:16:57.599923Z",
     "start_time": "2024-06-03T09:16:45.870985Z"
    }
   },
   "cell_type": "code",
   "source": [
    "from langchain_community.embeddings.gpt4all import GPT4AllEmbeddings as Embeddings\n",
    "from langchain_community.vectorstores.chroma import Chroma\n",
    "from langchain_community.vectorstores.redis import Redis\n",
    "model_name = \"all-MiniLM-L6-v2.gguf2.f16.gguf\"\n",
    "gpt4all_kwargs = {'allow_download': 'True'}\n",
    "embedding = Embeddings(model_name=model_name, gpt4all_kwargs=gpt4all_kwargs)\n",
    "stored_embeddings = Chroma.from_documents(documents = documents,\n",
    "                                          embedding= embedding,\n",
    "                                          collection_name='rag_chroma'\n",
    "                                          )"
   ],
   "id": "20fb3024227801a3",
   "outputs": [],
   "execution_count": 25
  },
  {
   "metadata": {
    "ExecuteTime": {
     "end_time": "2024-06-03T09:17:03.335972Z",
     "start_time": "2024-06-03T09:17:02.611104Z"
    }
   },
   "cell_type": "code",
   "source": [
    "from langchain_community.chains import PebbloRetrievalQA\n",
    "\n",
    "QA_chain = PebbloRetrievalQA.from_chain_type(llm = llm, \n",
    "                                             chain_type= \"stuff\",\n",
    "                                             retriever = stored_embeddings.as_retriever())"
   ],
   "id": "f0bec8eb1a385296",
   "outputs": [
    {
     "ename": "ValidationError",
     "evalue": "1 validation error for PebbloRetrievalQA\nretriever\n  Vectorstore must be an instance of one of the supported vectorstores: [<class 'langchain_community.vectorstores.pinecone.Pinecone'>, <class 'langchain_community.vectorstores.qdrant.Qdrant'>]. Got Chroma instead. (type=value_error)",
     "output_type": "error",
     "traceback": [
      "\u001B[1;31m---------------------------------------------------------------------------\u001B[0m",
      "\u001B[1;31mValidationError\u001B[0m                           Traceback (most recent call last)",
      "Cell \u001B[1;32mIn[26], line 3\u001B[0m\n\u001B[0;32m      1\u001B[0m \u001B[38;5;28;01mfrom\u001B[39;00m \u001B[38;5;21;01mlangchain_community\u001B[39;00m\u001B[38;5;21;01m.\u001B[39;00m\u001B[38;5;21;01mchains\u001B[39;00m \u001B[38;5;28;01mimport\u001B[39;00m PebbloRetrievalQA\n\u001B[1;32m----> 3\u001B[0m QA_chain \u001B[38;5;241m=\u001B[39m \u001B[43mPebbloRetrievalQA\u001B[49m\u001B[38;5;241;43m.\u001B[39;49m\u001B[43mfrom_chain_type\u001B[49m\u001B[43m(\u001B[49m\u001B[43mllm\u001B[49m\u001B[43m \u001B[49m\u001B[38;5;241;43m=\u001B[39;49m\u001B[43m \u001B[49m\u001B[43mllm\u001B[49m\u001B[43m,\u001B[49m\u001B[43m \u001B[49m\n\u001B[0;32m      4\u001B[0m \u001B[43m                                             \u001B[49m\u001B[43mchain_type\u001B[49m\u001B[38;5;241;43m=\u001B[39;49m\u001B[43m \u001B[49m\u001B[38;5;124;43m\"\u001B[39;49m\u001B[38;5;124;43mstuff\u001B[39;49m\u001B[38;5;124;43m\"\u001B[39;49m\u001B[43m,\u001B[49m\n\u001B[0;32m      5\u001B[0m \u001B[43m                                             \u001B[49m\u001B[43mretriever\u001B[49m\u001B[43m \u001B[49m\u001B[38;5;241;43m=\u001B[39;49m\u001B[43m \u001B[49m\u001B[43mstored_embeddings\u001B[49m\u001B[38;5;241;43m.\u001B[39;49m\u001B[43mas_retriever\u001B[49m\u001B[43m(\u001B[49m\u001B[43m)\u001B[49m\u001B[43m)\u001B[49m\n",
      "File \u001B[1;32m~\\Worskspace\\langchain-learning\\venv\\Lib\\site-packages\\langchain_community\\chains\\pebblo_retrieval\\base.py:172\u001B[0m, in \u001B[0;36mPebbloRetrievalQA.from_chain_type\u001B[1;34m(cls, llm, chain_type, chain_type_kwargs, **kwargs)\u001B[0m\n\u001B[0;32m    168\u001B[0m _chain_type_kwargs \u001B[38;5;241m=\u001B[39m chain_type_kwargs \u001B[38;5;129;01mor\u001B[39;00m {}\n\u001B[0;32m    169\u001B[0m combine_documents_chain \u001B[38;5;241m=\u001B[39m load_qa_chain(\n\u001B[0;32m    170\u001B[0m     llm, chain_type\u001B[38;5;241m=\u001B[39mchain_type, \u001B[38;5;241m*\u001B[39m\u001B[38;5;241m*\u001B[39m_chain_type_kwargs\n\u001B[0;32m    171\u001B[0m )\n\u001B[1;32m--> 172\u001B[0m \u001B[38;5;28;01mreturn\u001B[39;00m \u001B[38;5;28;43mcls\u001B[39;49m\u001B[43m(\u001B[49m\u001B[43mcombine_documents_chain\u001B[49m\u001B[38;5;241;43m=\u001B[39;49m\u001B[43mcombine_documents_chain\u001B[49m\u001B[43m,\u001B[49m\u001B[43m \u001B[49m\u001B[38;5;241;43m*\u001B[39;49m\u001B[38;5;241;43m*\u001B[39;49m\u001B[43mkwargs\u001B[49m\u001B[43m)\u001B[49m\n",
      "File \u001B[1;32m~\\Worskspace\\langchain-learning\\venv\\Lib\\site-packages\\pydantic\\v1\\main.py:341\u001B[0m, in \u001B[0;36mBaseModel.__init__\u001B[1;34m(__pydantic_self__, **data)\u001B[0m\n\u001B[0;32m    339\u001B[0m values, fields_set, validation_error \u001B[38;5;241m=\u001B[39m validate_model(__pydantic_self__\u001B[38;5;241m.\u001B[39m\u001B[38;5;18m__class__\u001B[39m, data)\n\u001B[0;32m    340\u001B[0m \u001B[38;5;28;01mif\u001B[39;00m validation_error:\n\u001B[1;32m--> 341\u001B[0m     \u001B[38;5;28;01mraise\u001B[39;00m validation_error\n\u001B[0;32m    342\u001B[0m \u001B[38;5;28;01mtry\u001B[39;00m:\n\u001B[0;32m    343\u001B[0m     object_setattr(__pydantic_self__, \u001B[38;5;124m'\u001B[39m\u001B[38;5;124m__dict__\u001B[39m\u001B[38;5;124m'\u001B[39m, values)\n",
      "\u001B[1;31mValidationError\u001B[0m: 1 validation error for PebbloRetrievalQA\nretriever\n  Vectorstore must be an instance of one of the supported vectorstores: [<class 'langchain_community.vectorstores.pinecone.Pinecone'>, <class 'langchain_community.vectorstores.qdrant.Qdrant'>]. Got Chroma instead. (type=value_error)"
     ]
    }
   ],
   "execution_count": 26
  },
  {
   "metadata": {},
   "cell_type": "code",
   "source": [
    "question = \"\"\"\n",
    "What is this article about?\n",
    "Describe it in less than 100 words.\n",
    "\"\"\""
   ],
   "id": "fe63e9f9e41e3766",
   "outputs": [],
   "execution_count": null
  },
  {
   "metadata": {},
   "cell_type": "code",
   "source": "QA_chain.invoke(question)",
   "id": "e32beacd41f6cb36",
   "outputs": [],
   "execution_count": null
  },
  {
   "metadata": {},
   "cell_type": "code",
   "source": [
    "question2 = \"\"\"\n",
    "And how does it explain how to create something people want?\n",
    "\"\"\""
   ],
   "id": "4233e350dc12eedd",
   "outputs": [],
   "execution_count": null
  },
  {
   "metadata": {},
   "cell_type": "code",
   "source": "QA_chain.invoke(question2)",
   "id": "4a06662dcf5e198a",
   "outputs": [],
   "execution_count": null
  },
  {
   "metadata": {},
   "cell_type": "code",
   "source": "",
   "id": "e81726c82b6f2709",
   "outputs": [],
   "execution_count": null
  }
 ],
 "metadata": {
  "kernelspec": {
   "display_name": "Python 3",
   "language": "python",
   "name": "python3"
  },
  "language_info": {
   "codemirror_mode": {
    "name": "ipython",
    "version": 2
   },
   "file_extension": ".py",
   "mimetype": "text/x-python",
   "name": "python",
   "nbconvert_exporter": "python",
   "pygments_lexer": "ipython2",
   "version": "2.7.6"
  }
 },
 "nbformat": 4,
 "nbformat_minor": 5
}
