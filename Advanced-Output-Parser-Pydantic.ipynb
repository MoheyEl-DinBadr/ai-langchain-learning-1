{
 "cells": [
  {
   "metadata": {
    "ExecuteTime": {
     "end_time": "2024-06-05T09:20:16.928488Z",
     "start_time": "2024-06-05T09:20:11.503962Z"
    }
   },
   "cell_type": "code",
   "source": "! pip install gpt4all",
   "id": "37ee48284d4f67a5",
   "outputs": [
    {
     "name": "stdout",
     "output_type": "stream",
     "text": [
      "Requirement already satisfied: gpt4all in c:\\users\\mohbadr\\worskspace\\langchain-learning\\venv\\lib\\site-packages (2.7.0)\n",
      "Requirement already satisfied: requests in c:\\users\\mohbadr\\worskspace\\langchain-learning\\venv\\lib\\site-packages (from gpt4all) (2.32.2)\n",
      "Requirement already satisfied: tqdm in c:\\users\\mohbadr\\worskspace\\langchain-learning\\venv\\lib\\site-packages (from gpt4all) (4.66.4)\n",
      "Requirement already satisfied: charset-normalizer<4,>=2 in c:\\users\\mohbadr\\worskspace\\langchain-learning\\venv\\lib\\site-packages (from requests->gpt4all) (3.3.2)\n",
      "Requirement already satisfied: idna<4,>=2.5 in c:\\users\\mohbadr\\worskspace\\langchain-learning\\venv\\lib\\site-packages (from requests->gpt4all) (3.7)\n",
      "Requirement already satisfied: urllib3<3,>=1.21.1 in c:\\users\\mohbadr\\worskspace\\langchain-learning\\venv\\lib\\site-packages (from requests->gpt4all) (2.2.1)\n",
      "Requirement already satisfied: certifi>=2017.4.17 in c:\\users\\mohbadr\\appdata\\local\\packages\\pythonsoftwarefoundation.python.3.11_qbz5n2kfra8p0\\localcache\\local-packages\\python311\\site-packages (from requests->gpt4all) (2024.2.2)\n",
      "Requirement already satisfied: colorama in c:\\users\\mohbadr\\worskspace\\langchain-learning\\venv\\lib\\site-packages (from tqdm->gpt4all) (0.4.6)\n"
     ]
    }
   ],
   "execution_count": 1
  },
  {
   "cell_type": "code",
   "id": "initial_id",
   "metadata": {
    "collapsed": true,
    "ExecuteTime": {
     "end_time": "2024-06-05T09:20:16.953825Z",
     "start_time": "2024-06-05T09:20:16.929497Z"
    }
   },
   "source": [
    "import os\n",
    "from dotenv import load_dotenv\n",
    "\n",
    "load_dotenv()\n",
    "base_url = os.environ.get('OPENAI_BASE_URL')\n",
    "api_key = os.environ.get('OPENAI_API_KEY')\n",
    "model_name = os.environ.get('OPENAI_MODEL_NAME')"
   ],
   "outputs": [],
   "execution_count": 2
  },
  {
   "metadata": {
    "ExecuteTime": {
     "end_time": "2024-06-05T09:20:19.222965Z",
     "start_time": "2024-06-05T09:20:16.954840Z"
    }
   },
   "cell_type": "code",
   "source": [
    "from langchain_openai import ChatOpenAI as LLM\n",
    "\n",
    "llm = LLM(api_key=api_key, model_name=model_name, base_url=base_url)"
   ],
   "id": "fc31cfa256304286",
   "outputs": [],
   "execution_count": 3
  },
  {
   "metadata": {
    "ExecuteTime": {
     "end_time": "2024-06-05T09:20:19.245007Z",
     "start_time": "2024-06-05T09:20:19.224560Z"
    }
   },
   "cell_type": "code",
   "source": [
    "from langchain_core.output_parsers import PydanticOutputParser\n",
    "from pydantic import BaseModel, Field, field_validator\n",
    "from typing import List\n",
    "\n",
    "class MyPydanticParsingModel(BaseModel):\n",
    "    words: List[str] = Field(\n",
    "        description='list of substitute words based on the context '\n",
    "    )\n",
    "    \n",
    "    reasons: List[str] = Field(\n",
    "        description='list of reason words based on the context '\n",
    "    )\n",
    "    \n",
    "    #throw an error if the subsituties starts with a number\n",
    "    \n",
    "    @field_validator('words')\n",
    "    def not_start_with_number(cls, info):\n",
    "        for item in info:\n",
    "            if item[0].isnumeric():\n",
    "                raise ValueError(\"Error the word can't start with number\")\n",
    "            return info\n",
    "        \n",
    "    @field_validator('reasons')\n",
    "    def end_with_dot(cls, info):\n",
    "        for idx, item in enumerate(info):\n",
    "            if item[-1] != \".\":\n",
    "                info[idx] += \".\"\n",
    "        return info       "
   ],
   "id": "f68261bb477b583",
   "outputs": [],
   "execution_count": 4
  },
  {
   "metadata": {
    "ExecuteTime": {
     "end_time": "2024-06-05T09:20:19.253001Z",
     "start_time": "2024-06-05T09:20:19.248018Z"
    }
   },
   "cell_type": "code",
   "source": [
    "my_parser = PydanticOutputParser(\n",
    " pydantic_object=MyPydanticParsingModel,   \n",
    ")"
   ],
   "id": "e81726c82b6f2709",
   "outputs": [],
   "execution_count": 5
  },
  {
   "metadata": {
    "ExecuteTime": {
     "end_time": "2024-06-05T09:38:27.777215Z",
     "start_time": "2024-06-05T09:38:27.763341Z"
    }
   },
   "cell_type": "code",
   "source": [
    "from langchain_core.prompts import PromptTemplate\n",
    "\n",
    "template = (\"\"\"\n",
    "            Offer a list of substitutions the specified target_word based on the present context and the reasoning for each word.\n",
    "            \n",
    "            target_word={target_word}\n",
    "            context={context}\n",
    "            \n",
    "            with {format_instructions}\n",
    "            \"\"\")\n",
    "\n",
    "prompt = PromptTemplate(template=template,\n",
    "                        input_variables=['target_word', 'context'],\n",
    "                        partial_variables={\n",
    "                            \"format_instructions\": my_parser.get_format_instructions()\n",
    "                        })"
   ],
   "id": "c2b019ee6ee94536",
   "outputs": [],
   "execution_count": 11
  },
  {
   "metadata": {
    "ExecuteTime": {
     "end_time": "2024-06-05T09:38:30.809209Z",
     "start_time": "2024-06-05T09:38:30.795254Z"
    }
   },
   "cell_type": "code",
   "source": [
    "user_input = prompt.format_prompt(\n",
    "    target_word=\"loyalty\",\n",
    "    context=\"\"\"\n",
    "    The loyalty of a solider was so great that even under sever torture, he refused to betray his comrades.\n",
    "    \"\"\"\n",
    ")"
   ],
   "id": "e157295d1550e9ec",
   "outputs": [],
   "execution_count": 12
  },
  {
   "metadata": {
    "ExecuteTime": {
     "end_time": "2024-06-05T09:38:35.423249Z",
     "start_time": "2024-06-05T09:38:32.328913Z"
    }
   },
   "cell_type": "code",
   "source": "output = llm.invoke(user_input.to_string())",
   "id": "ddc6125559b193c5",
   "outputs": [],
   "execution_count": 13
  },
  {
   "metadata": {
    "ExecuteTime": {
     "end_time": "2024-06-05T10:03:03.691625Z",
     "start_time": "2024-06-05T10:03:03.650824Z"
    }
   },
   "cell_type": "code",
   "source": "my_parser.parse(output.content)",
   "id": "551e2d36a3dd4512",
   "outputs": [
    {
     "ename": "OutputParserException",
     "evalue": "Failed to parse MyPydanticParsingModel from completion [{\"words\": [\"devotion\", \"faithfulness\", \"allegiance\"], \"reasons\": [\"refused to betray comrades under torture\"]}]. Got: 1 validation error for MyPydanticParsingModel\n  Input should be a valid dictionary or instance of MyPydanticParsingModel [type=model_type, input_value=[{'words': ['devotion', '...mrades under torture']}], input_type=list]\n    For further information visit https://errors.pydantic.dev/2.7/v/model_type",
     "output_type": "error",
     "traceback": [
      "\u001B[1;31m---------------------------------------------------------------------------\u001B[0m",
      "\u001B[1;31mValidationError\u001B[0m                           Traceback (most recent call last)",
      "File \u001B[1;32m~\\Worskspace\\langchain-learning\\venv\\Lib\\site-packages\\langchain_core\\output_parsers\\pydantic.py:33\u001B[0m, in \u001B[0;36mPydanticOutputParser._parse_obj\u001B[1;34m(self, obj)\u001B[0m\n\u001B[0;32m     32\u001B[0m \u001B[38;5;28;01mif\u001B[39;00m \u001B[38;5;28missubclass\u001B[39m(\u001B[38;5;28mself\u001B[39m\u001B[38;5;241m.\u001B[39mpydantic_object, pydantic\u001B[38;5;241m.\u001B[39mBaseModel):\n\u001B[1;32m---> 33\u001B[0m     \u001B[38;5;28;01mreturn\u001B[39;00m \u001B[38;5;28;43mself\u001B[39;49m\u001B[38;5;241;43m.\u001B[39;49m\u001B[43mpydantic_object\u001B[49m\u001B[38;5;241;43m.\u001B[39;49m\u001B[43mmodel_validate\u001B[49m\u001B[43m(\u001B[49m\u001B[43mobj\u001B[49m\u001B[43m)\u001B[49m\n\u001B[0;32m     34\u001B[0m \u001B[38;5;28;01melif\u001B[39;00m \u001B[38;5;28missubclass\u001B[39m(\u001B[38;5;28mself\u001B[39m\u001B[38;5;241m.\u001B[39mpydantic_object, pydantic\u001B[38;5;241m.\u001B[39mv1\u001B[38;5;241m.\u001B[39mBaseModel):\n",
      "File \u001B[1;32m~\\Worskspace\\langchain-learning\\venv\\Lib\\site-packages\\pydantic\\main.py:551\u001B[0m, in \u001B[0;36mBaseModel.model_validate\u001B[1;34m(cls, obj, strict, from_attributes, context)\u001B[0m\n\u001B[0;32m    550\u001B[0m __tracebackhide__ \u001B[38;5;241m=\u001B[39m \u001B[38;5;28;01mTrue\u001B[39;00m\n\u001B[1;32m--> 551\u001B[0m \u001B[38;5;28;01mreturn\u001B[39;00m \u001B[38;5;28;43mcls\u001B[39;49m\u001B[38;5;241;43m.\u001B[39;49m\u001B[43m__pydantic_validator__\u001B[49m\u001B[38;5;241;43m.\u001B[39;49m\u001B[43mvalidate_python\u001B[49m\u001B[43m(\u001B[49m\n\u001B[0;32m    552\u001B[0m \u001B[43m    \u001B[49m\u001B[43mobj\u001B[49m\u001B[43m,\u001B[49m\u001B[43m \u001B[49m\u001B[43mstrict\u001B[49m\u001B[38;5;241;43m=\u001B[39;49m\u001B[43mstrict\u001B[49m\u001B[43m,\u001B[49m\u001B[43m \u001B[49m\u001B[43mfrom_attributes\u001B[49m\u001B[38;5;241;43m=\u001B[39;49m\u001B[43mfrom_attributes\u001B[49m\u001B[43m,\u001B[49m\u001B[43m \u001B[49m\u001B[43mcontext\u001B[49m\u001B[38;5;241;43m=\u001B[39;49m\u001B[43mcontext\u001B[49m\n\u001B[0;32m    553\u001B[0m \u001B[43m\u001B[49m\u001B[43m)\u001B[49m\n",
      "\u001B[1;31mValidationError\u001B[0m: 1 validation error for MyPydanticParsingModel\n  Input should be a valid dictionary or instance of MyPydanticParsingModel [type=model_type, input_value=[{'words': ['devotion', '...mrades under torture']}], input_type=list]\n    For further information visit https://errors.pydantic.dev/2.7/v/model_type",
      "\nDuring handling of the above exception, another exception occurred:\n",
      "\u001B[1;31mOutputParserException\u001B[0m                     Traceback (most recent call last)",
      "Cell \u001B[1;32mIn[20], line 1\u001B[0m\n\u001B[1;32m----> 1\u001B[0m \u001B[43mmy_parser\u001B[49m\u001B[38;5;241;43m.\u001B[39;49m\u001B[43mparse\u001B[49m\u001B[43m(\u001B[49m\u001B[43moutput\u001B[49m\u001B[38;5;241;43m.\u001B[39;49m\u001B[43mcontent\u001B[49m\u001B[43m)\u001B[49m\n",
      "File \u001B[1;32m~\\Worskspace\\langchain-learning\\venv\\Lib\\site-packages\\langchain_core\\output_parsers\\pydantic.py:64\u001B[0m, in \u001B[0;36mPydanticOutputParser.parse\u001B[1;34m(self, text)\u001B[0m\n\u001B[0;32m     63\u001B[0m \u001B[38;5;28;01mdef\u001B[39;00m \u001B[38;5;21mparse\u001B[39m(\u001B[38;5;28mself\u001B[39m, text: \u001B[38;5;28mstr\u001B[39m) \u001B[38;5;241m-\u001B[39m\u001B[38;5;241m>\u001B[39m TBaseModel:\n\u001B[1;32m---> 64\u001B[0m     \u001B[38;5;28;01mreturn\u001B[39;00m \u001B[38;5;28;43msuper\u001B[39;49m\u001B[43m(\u001B[49m\u001B[43m)\u001B[49m\u001B[38;5;241;43m.\u001B[39;49m\u001B[43mparse\u001B[49m\u001B[43m(\u001B[49m\u001B[43mtext\u001B[49m\u001B[43m)\u001B[49m\n",
      "File \u001B[1;32m~\\Worskspace\\langchain-learning\\venv\\Lib\\site-packages\\langchain_core\\output_parsers\\json.py:72\u001B[0m, in \u001B[0;36mJsonOutputParser.parse\u001B[1;34m(self, text)\u001B[0m\n\u001B[0;32m     71\u001B[0m \u001B[38;5;28;01mdef\u001B[39;00m \u001B[38;5;21mparse\u001B[39m(\u001B[38;5;28mself\u001B[39m, text: \u001B[38;5;28mstr\u001B[39m) \u001B[38;5;241m-\u001B[39m\u001B[38;5;241m>\u001B[39m Any:\n\u001B[1;32m---> 72\u001B[0m     \u001B[38;5;28;01mreturn\u001B[39;00m \u001B[38;5;28;43mself\u001B[39;49m\u001B[38;5;241;43m.\u001B[39;49m\u001B[43mparse_result\u001B[49m\u001B[43m(\u001B[49m\u001B[43m[\u001B[49m\u001B[43mGeneration\u001B[49m\u001B[43m(\u001B[49m\u001B[43mtext\u001B[49m\u001B[38;5;241;43m=\u001B[39;49m\u001B[43mtext\u001B[49m\u001B[43m)\u001B[49m\u001B[43m]\u001B[49m\u001B[43m)\u001B[49m\n",
      "File \u001B[1;32m~\\Worskspace\\langchain-learning\\venv\\Lib\\site-packages\\langchain_core\\output_parsers\\pydantic.py:61\u001B[0m, in \u001B[0;36mPydanticOutputParser.parse_result\u001B[1;34m(self, result, partial)\u001B[0m\n\u001B[0;32m     57\u001B[0m \u001B[38;5;28;01mdef\u001B[39;00m \u001B[38;5;21mparse_result\u001B[39m(\n\u001B[0;32m     58\u001B[0m     \u001B[38;5;28mself\u001B[39m, result: List[Generation], \u001B[38;5;241m*\u001B[39m, partial: \u001B[38;5;28mbool\u001B[39m \u001B[38;5;241m=\u001B[39m \u001B[38;5;28;01mFalse\u001B[39;00m\n\u001B[0;32m     59\u001B[0m ) \u001B[38;5;241m-\u001B[39m\u001B[38;5;241m>\u001B[39m TBaseModel:\n\u001B[0;32m     60\u001B[0m     json_object \u001B[38;5;241m=\u001B[39m \u001B[38;5;28msuper\u001B[39m()\u001B[38;5;241m.\u001B[39mparse_result(result)\n\u001B[1;32m---> 61\u001B[0m     \u001B[38;5;28;01mreturn\u001B[39;00m \u001B[38;5;28;43mself\u001B[39;49m\u001B[38;5;241;43m.\u001B[39;49m\u001B[43m_parse_obj\u001B[49m\u001B[43m(\u001B[49m\u001B[43mjson_object\u001B[49m\u001B[43m)\u001B[49m\n",
      "File \u001B[1;32m~\\Worskspace\\langchain-learning\\venv\\Lib\\site-packages\\langchain_core\\output_parsers\\pydantic.py:42\u001B[0m, in \u001B[0;36mPydanticOutputParser._parse_obj\u001B[1;34m(self, obj)\u001B[0m\n\u001B[0;32m     37\u001B[0m             \u001B[38;5;28;01mraise\u001B[39;00m OutputParserException(\n\u001B[0;32m     38\u001B[0m                 \u001B[38;5;124mf\u001B[39m\u001B[38;5;124m\"\u001B[39m\u001B[38;5;124mUnsupported model version for PydanticOutputParser: \u001B[39m\u001B[38;5;130;01m\\\u001B[39;00m\n\u001B[0;32m     39\u001B[0m \u001B[38;5;124m                    \u001B[39m\u001B[38;5;132;01m{\u001B[39;00m\u001B[38;5;28mself\u001B[39m\u001B[38;5;241m.\u001B[39mpydantic_object\u001B[38;5;241m.\u001B[39m\u001B[38;5;18m__class__\u001B[39m\u001B[38;5;132;01m}\u001B[39;00m\u001B[38;5;124m\"\u001B[39m\n\u001B[0;32m     40\u001B[0m             )\n\u001B[0;32m     41\u001B[0m     \u001B[38;5;28;01mexcept\u001B[39;00m (pydantic\u001B[38;5;241m.\u001B[39mValidationError, pydantic\u001B[38;5;241m.\u001B[39mv1\u001B[38;5;241m.\u001B[39mValidationError) \u001B[38;5;28;01mas\u001B[39;00m e:\n\u001B[1;32m---> 42\u001B[0m         \u001B[38;5;28;01mraise\u001B[39;00m \u001B[38;5;28mself\u001B[39m\u001B[38;5;241m.\u001B[39m_parser_exception(e, obj)\n\u001B[0;32m     43\u001B[0m \u001B[38;5;28;01melse\u001B[39;00m:  \u001B[38;5;66;03m# pydantic v1\u001B[39;00m\n\u001B[0;32m     44\u001B[0m     \u001B[38;5;28;01mtry\u001B[39;00m:\n",
      "\u001B[1;31mOutputParserException\u001B[0m: Failed to parse MyPydanticParsingModel from completion [{\"words\": [\"devotion\", \"faithfulness\", \"allegiance\"], \"reasons\": [\"refused to betray comrades under torture\"]}]. Got: 1 validation error for MyPydanticParsingModel\n  Input should be a valid dictionary or instance of MyPydanticParsingModel [type=model_type, input_value=[{'words': ['devotion', '...mrades under torture']}], input_type=list]\n    For further information visit https://errors.pydantic.dev/2.7/v/model_type"
     ]
    }
   ],
   "execution_count": 20
  },
  {
   "metadata": {
    "ExecuteTime": {
     "end_time": "2024-06-05T09:41:17.630490Z",
     "start_time": "2024-06-05T09:41:17.621748Z"
    }
   },
   "cell_type": "code",
   "source": "output.content",
   "id": "d572cb90c15a4a05",
   "outputs": [
    {
     "data": {
      "text/plain": [
       "'[\\n    {\"words\": [\"devotion\", \"faithfulness\", \"allegiance\"], \"reasons\": [\"refused to betray comrades under torture\"]}\\n]'"
      ]
     },
     "execution_count": 18,
     "metadata": {},
     "output_type": "execute_result"
    }
   ],
   "execution_count": 18
  },
  {
   "metadata": {
    "ExecuteTime": {
     "end_time": "2024-06-05T09:40:08.402777Z",
     "start_time": "2024-06-05T09:40:08.393601Z"
    }
   },
   "cell_type": "code",
   "source": "user_input",
   "id": "37d32f42b84b5087",
   "outputs": [
    {
     "data": {
      "text/plain": [
       "StringPromptValue(text='\\n            Offer a list of substitutions the specified target_word based on the present context and the reasoning for each word.\\n            \\n            target_word=loyalty\\n            context=\\n    The loyalty of a solider was so great that even under sever torture, he refused to betray his comrades.\\n    \\n            \\n            with The output should be formatted as a JSON instance that conforms to the JSON schema below.\\n\\nAs an example, for the schema {\"properties\": {\"foo\": {\"title\": \"Foo\", \"description\": \"a list of strings\", \"type\": \"array\", \"items\": {\"type\": \"string\"}}}, \"required\": [\"foo\"]}\\nthe object {\"foo\": [\"bar\", \"baz\"]} is a well-formatted instance of the schema. The object {\"properties\": {\"foo\": [\"bar\", \"baz\"]}} is not well-formatted.\\n\\nHere is the output schema:\\n```\\n{\"properties\": {\"words\": {\"description\": \"list of substitute words based on the context \", \"items\": {\"type\": \"string\"}, \"title\": \"Words\", \"type\": \"array\"}, \"reasons\": {\"description\": \"list of reason words based on the context \", \"items\": {\"type\": \"string\"}, \"title\": \"Reasons\", \"type\": \"array\"}}, \"required\": [\"words\", \"reasons\"]}\\n```\\n            ')"
      ]
     },
     "execution_count": 17,
     "metadata": {},
     "output_type": "execute_result"
    }
   ],
   "execution_count": 17
  },
  {
   "metadata": {},
   "cell_type": "code",
   "outputs": [],
   "execution_count": null,
   "source": "",
   "id": "4ec68e0b229d8a2c"
  }
 ],
 "metadata": {
  "kernelspec": {
   "display_name": "Python 3",
   "language": "python",
   "name": "python3"
  },
  "language_info": {
   "codemirror_mode": {
    "name": "ipython",
    "version": 2
   },
   "file_extension": ".py",
   "mimetype": "text/x-python",
   "name": "python",
   "nbconvert_exporter": "python",
   "pygments_lexer": "ipython2",
   "version": "2.7.6"
  }
 },
 "nbformat": 4,
 "nbformat_minor": 5
}
